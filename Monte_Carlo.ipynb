{
 "cells": [
  {
   "cell_type": "markdown",
   "id": "3a3c1602",
   "metadata": {},
   "source": [
    "# Simulação de Monte Carlo\n",
    "\n",
    "* Criada durante a segunda guerra mundial;\n",
    "* Nomeado em homenagem a cidade de Mônaco com seus cassinos;\n",
    "* Foi criada originalmente para testar cenários de um evento incerto. O acaso é o principal elemento da abordagem na modelagem.\n",
    "\n",
    "* No mercado financeiro, existem tantos cenários, que a projeção de retornos não pode ser resolvida por uma simples análise combinatória. É necessário resolver o problema utilizando força bruta.\n",
    "* Simular o cenário **N** vezes, criando uma amostra e, a partir da amostra, praticar a inferência estatística."
   ]
  },
  {
   "cell_type": "markdown",
   "id": "b2963a33",
   "metadata": {},
   "source": [
    "# Problema a ser resolvido:\n",
    "\n",
    "* Tenho uma carteira com 10 ações. Dado a distribuição dos retornos dessa carteira no último ano:\n",
    "    * Qual o máximo que eu posso perder nos próximos 3 anos, com uma confiança de 95%?\n",
    "    * Qual a probabilidade de eu obter lucro?"
   ]
  },
  {
   "cell_type": "markdown",
   "id": "ea5bcde0",
   "metadata": {},
   "source": [
    "# Resolução:\n",
    "\n",
    "* Simular 10 mil cenários da carteira com 10 ações nos próximos 10 anos e criar uma distribuição dos retornos com os cenários. Para isso, vamos utilizar Monte Carlo."
   ]
  },
  {
   "cell_type": "markdown",
   "id": "011f1aff",
   "metadata": {},
   "source": [
    "## 1.0 Bibliotecas"
   ]
  },
  {
   "cell_type": "code",
   "execution_count": 3,
   "id": "a6d241c9",
   "metadata": {},
   "outputs": [],
   "source": [
    "import numpy                            as np\n",
    "import matplotlib.pyplot                as plt\n",
    "import datetime                         as dt\n",
    "from pandas_datareader   import data    as pdr\n",
    "from numpy               import linalg  as LA"
   ]
  },
  {
   "cell_type": "markdown",
   "id": "b52fdfda",
   "metadata": {},
   "source": [
    "## 2. Obtendo os dados"
   ]
  },
  {
   "cell_type": "code",
   "execution_count": 6,
   "id": "b49bc50a",
   "metadata": {},
   "outputs": [
    {
     "name": "stdout",
     "output_type": "stream",
     "text": [
      "['PETR4.SA', 'PCAR3.SA', 'VALE3.SA', 'LREN3.SA', 'WEGE3.SA']\n",
      "2023-05-22 21:25:43.154793\n",
      "2022-07-26 21:25:43.154793\n"
     ]
    },
    {
     "ename": "TypeError",
     "evalue": "string indices must be integers",
     "output_type": "error",
     "traceback": [
      "\u001b[1;31m---------------------------------------------------------------------------\u001b[0m",
      "\u001b[1;31mTypeError\u001b[0m                                 Traceback (most recent call last)",
      "Cell \u001b[1;32mIn[6], line 11\u001b[0m\n\u001b[0;32m      8\u001b[0m data_inicial \u001b[38;5;241m=\u001b[39m data_final \u001b[38;5;241m-\u001b[39m dt\u001b[38;5;241m.\u001b[39mtimedelta(days\u001b[38;5;241m=\u001b[39m\u001b[38;5;241m300\u001b[39m) \u001b[38;5;66;03m# A data final é 300 dias para trás\u001b[39;00m\n\u001b[0;32m      9\u001b[0m \u001b[38;5;28mprint\u001b[39m(data_inicial)\n\u001b[1;32m---> 11\u001b[0m precos \u001b[38;5;241m=\u001b[39m \u001b[43mpdr\u001b[49m\u001b[38;5;241;43m.\u001b[39;49m\u001b[43mget_data_yahoo\u001b[49m\u001b[43m(\u001b[49m\u001b[43mlista_acoes\u001b[49m\u001b[43m,\u001b[49m\u001b[43m \u001b[49m\u001b[43mdata_inicial\u001b[49m\u001b[43m,\u001b[49m\u001b[43m \u001b[49m\u001b[43mdata_final\u001b[49m\u001b[43m)\u001b[49m[\u001b[38;5;124m'\u001b[39m\u001b[38;5;124mAdj Close\u001b[39m\u001b[38;5;124m'\u001b[39m]\n",
      "File \u001b[1;32m~\\anaconda3\\lib\\site-packages\\pandas_datareader\\data.py:80\u001b[0m, in \u001b[0;36mget_data_yahoo\u001b[1;34m(*args, **kwargs)\u001b[0m\n\u001b[0;32m     79\u001b[0m \u001b[38;5;28;01mdef\u001b[39;00m \u001b[38;5;21mget_data_yahoo\u001b[39m(\u001b[38;5;241m*\u001b[39margs, \u001b[38;5;241m*\u001b[39m\u001b[38;5;241m*\u001b[39mkwargs):\n\u001b[1;32m---> 80\u001b[0m     \u001b[38;5;28;01mreturn\u001b[39;00m \u001b[43mYahooDailyReader\u001b[49m\u001b[43m(\u001b[49m\u001b[38;5;241;43m*\u001b[39;49m\u001b[43margs\u001b[49m\u001b[43m,\u001b[49m\u001b[43m \u001b[49m\u001b[38;5;241;43m*\u001b[39;49m\u001b[38;5;241;43m*\u001b[39;49m\u001b[43mkwargs\u001b[49m\u001b[43m)\u001b[49m\u001b[38;5;241;43m.\u001b[39;49m\u001b[43mread\u001b[49m\u001b[43m(\u001b[49m\u001b[43m)\u001b[49m\n",
      "File \u001b[1;32m~\\anaconda3\\lib\\site-packages\\pandas_datareader\\base.py:258\u001b[0m, in \u001b[0;36m_DailyBaseReader.read\u001b[1;34m(self)\u001b[0m\n\u001b[0;32m    256\u001b[0m     df \u001b[38;5;241m=\u001b[39m \u001b[38;5;28mself\u001b[39m\u001b[38;5;241m.\u001b[39m_dl_mult_symbols(\u001b[38;5;28mself\u001b[39m\u001b[38;5;241m.\u001b[39msymbols\u001b[38;5;241m.\u001b[39mindex)\n\u001b[0;32m    257\u001b[0m \u001b[38;5;28;01melse\u001b[39;00m:\n\u001b[1;32m--> 258\u001b[0m     df \u001b[38;5;241m=\u001b[39m \u001b[38;5;28;43mself\u001b[39;49m\u001b[38;5;241;43m.\u001b[39;49m\u001b[43m_dl_mult_symbols\u001b[49m\u001b[43m(\u001b[49m\u001b[38;5;28;43mself\u001b[39;49m\u001b[38;5;241;43m.\u001b[39;49m\u001b[43msymbols\u001b[49m\u001b[43m)\u001b[49m\n\u001b[0;32m    259\u001b[0m \u001b[38;5;28;01mreturn\u001b[39;00m df\n",
      "File \u001b[1;32m~\\anaconda3\\lib\\site-packages\\pandas_datareader\\base.py:268\u001b[0m, in \u001b[0;36m_DailyBaseReader._dl_mult_symbols\u001b[1;34m(self, symbols)\u001b[0m\n\u001b[0;32m    266\u001b[0m \u001b[38;5;28;01mfor\u001b[39;00m sym \u001b[38;5;129;01min\u001b[39;00m sym_group:\n\u001b[0;32m    267\u001b[0m     \u001b[38;5;28;01mtry\u001b[39;00m:\n\u001b[1;32m--> 268\u001b[0m         stocks[sym] \u001b[38;5;241m=\u001b[39m \u001b[38;5;28;43mself\u001b[39;49m\u001b[38;5;241;43m.\u001b[39;49m\u001b[43m_read_one_data\u001b[49m\u001b[43m(\u001b[49m\u001b[38;5;28;43mself\u001b[39;49m\u001b[38;5;241;43m.\u001b[39;49m\u001b[43murl\u001b[49m\u001b[43m,\u001b[49m\u001b[43m \u001b[49m\u001b[38;5;28;43mself\u001b[39;49m\u001b[38;5;241;43m.\u001b[39;49m\u001b[43m_get_params\u001b[49m\u001b[43m(\u001b[49m\u001b[43msym\u001b[49m\u001b[43m)\u001b[49m\u001b[43m)\u001b[49m\n\u001b[0;32m    269\u001b[0m         passed\u001b[38;5;241m.\u001b[39mappend(sym)\n\u001b[0;32m    270\u001b[0m     \u001b[38;5;28;01mexcept\u001b[39;00m (\u001b[38;5;167;01mIOError\u001b[39;00m, \u001b[38;5;167;01mKeyError\u001b[39;00m):\n",
      "File \u001b[1;32m~\\anaconda3\\lib\\site-packages\\pandas_datareader\\yahoo\\daily.py:153\u001b[0m, in \u001b[0;36mYahooDailyReader._read_one_data\u001b[1;34m(self, url, params)\u001b[0m\n\u001b[0;32m    151\u001b[0m \u001b[38;5;28;01mtry\u001b[39;00m:\n\u001b[0;32m    152\u001b[0m     j \u001b[38;5;241m=\u001b[39m json\u001b[38;5;241m.\u001b[39mloads(re\u001b[38;5;241m.\u001b[39msearch(ptrn, resp\u001b[38;5;241m.\u001b[39mtext, re\u001b[38;5;241m.\u001b[39mDOTALL)\u001b[38;5;241m.\u001b[39mgroup(\u001b[38;5;241m1\u001b[39m))\n\u001b[1;32m--> 153\u001b[0m     data \u001b[38;5;241m=\u001b[39m \u001b[43mj\u001b[49m\u001b[43m[\u001b[49m\u001b[38;5;124;43m\"\u001b[39;49m\u001b[38;5;124;43mcontext\u001b[39;49m\u001b[38;5;124;43m\"\u001b[39;49m\u001b[43m]\u001b[49m\u001b[43m[\u001b[49m\u001b[38;5;124;43m\"\u001b[39;49m\u001b[38;5;124;43mdispatcher\u001b[39;49m\u001b[38;5;124;43m\"\u001b[39;49m\u001b[43m]\u001b[49m\u001b[43m[\u001b[49m\u001b[38;5;124;43m\"\u001b[39;49m\u001b[38;5;124;43mstores\u001b[39;49m\u001b[38;5;124;43m\"\u001b[39;49m\u001b[43m]\u001b[49m\u001b[43m[\u001b[49m\u001b[38;5;124;43m\"\u001b[39;49m\u001b[38;5;124;43mHistoricalPriceStore\u001b[39;49m\u001b[38;5;124;43m\"\u001b[39;49m\u001b[43m]\u001b[49m\n\u001b[0;32m    154\u001b[0m \u001b[38;5;28;01mexcept\u001b[39;00m \u001b[38;5;167;01mKeyError\u001b[39;00m:\n\u001b[0;32m    155\u001b[0m     msg \u001b[38;5;241m=\u001b[39m \u001b[38;5;124m\"\u001b[39m\u001b[38;5;124mNo data fetched for symbol \u001b[39m\u001b[38;5;132;01m{}\u001b[39;00m\u001b[38;5;124m using \u001b[39m\u001b[38;5;132;01m{}\u001b[39;00m\u001b[38;5;124m\"\u001b[39m\n",
      "\u001b[1;31mTypeError\u001b[0m: string indices must be integers"
     ]
    }
   ],
   "source": [
    "lista_acoes = ['PETR4', 'PCAR3', 'VALE3', 'LREN3', 'WEGE3'] # Lista de ativos de interesse\n",
    "lista_acoes = [acao + '.SA' for acao in lista_acoes] # Adicionando o sufixo '.SA' para consultar as cotações no Yahoo Finance\n",
    "\n",
    "data_final = dt.datetime.now() # Definindo a data final como a data atual (hoje)\n",
    "\n",
    "data_inicial = data_final - dt.timedelta(days=300) # A data final é 300 dias para trás\n",
    "\n",
    "precos = pdr.get_data_yahoo(lista_acoes, data_inicial, data_final)['Adj Close'] # Pegar o valor da cotação de fechamento AJUSTADO"
   ]
  },
  {
   "cell_type": "markdown",
   "id": "741dd266",
   "metadata": {},
   "source": [
    "## 3. Calculando os retornos da matriz de Covariância"
   ]
  },
  {
   "cell_type": "code",
   "execution_count": null,
   "id": "136b1d8d",
   "metadata": {},
   "outputs": [],
   "source": [
    "retornos = precos.pct_change().dropna() # dropna, pois a primeira linha não haverá percentual\n",
    "media_retornos = retornos.mean() #calcula a média dos retornos\n",
    "matriz_covariancia = retorno.cov() # calcular a matriz de covariância\n",
    "pesos_carteira = np.full(len(lista_acoes), 1/len(lista_acoes)) # calcular o peso da carteira dividindo o tamanho da carteira (100%) pelo número de ativos\n",
    "numero_acoes = len(lista_acoes)\n",
    "\n",
    "pesos_carteira"
   ]
  },
  {
   "cell_type": "markdown",
   "id": "a8e5ed5f",
   "metadata": {},
   "source": [
    "## 4. Fórmula dos Retornos Sintéticos\n",
    "\n",
    "Retornos sintéticos = media_retornos + Rpdf x L\n",
    "\n",
    "* media_retornos = Média dos retornos\n",
    "* Rpdf = Matriz aleatória gerada por alguma função de densidade de probabilidade\n",
    "* L = Matriz triangular inferior proveniente de uma decomposição de Cholesky, usando como base a matriz de covariância dos dados originais.\n",
    "\n",
    "**Explicação:**\n",
    "\n",
    "* Assumimos que a distribuição dos retornos se aproxima de uma normal.<br>\n",
    "\n",
    "* Ao gerar retornos aleatórios de cada ativo, estes valores compõem vetores aleatórios descorrelacionados. Para corrigir isso, usaremos uma matriz triangular obtida a partir da covariância. "
   ]
  },
  {
   "cell_type": "markdown",
   "id": "fbc50949",
   "metadata": {},
   "source": [
    "## 5. Premissas do Modelo de Monte Carlo"
   ]
  },
  {
   "cell_type": "code",
   "execution_count": 8,
   "id": "b1d71898",
   "metadata": {},
   "outputs": [
    {
     "ename": "NameError",
     "evalue": "name 'retornos' is not defined",
     "output_type": "error",
     "traceback": [
      "\u001b[1;31m---------------------------------------------------------------------------\u001b[0m",
      "\u001b[1;31mNameError\u001b[0m                                 Traceback (most recent call last)",
      "Cell \u001b[1;32mIn[8], line 6\u001b[0m\n\u001b[0;32m      3\u001b[0m capital_inicial \u001b[38;5;241m=\u001b[39m \u001b[38;5;241m1000\u001b[39m \u001b[38;5;66;03m# capital inicial\u001b[39;00m\n\u001b[0;32m      5\u001b[0m \u001b[38;5;66;03m# retorno médio\u001b[39;00m\n\u001b[1;32m----> 6\u001b[0m retorno_medio \u001b[38;5;241m=\u001b[39m \u001b[43mretornos\u001b[49m\u001b[38;5;241m.\u001b[39mmean(axis\u001b[38;5;241m=\u001b[39m\u001b[38;5;241m0\u001b[39m)\u001b[38;5;241m.\u001b[39mto_numpy()\n\u001b[0;32m      7\u001b[0m matriz_retorno_medio \u001b[38;5;241m=\u001b[39m retorno_medio \u001b[38;5;241m*\u001b[39m np\u001b[38;5;241m.\u001b[39mones(shape \u001b[38;5;241m=\u001b[39m (dias_projetados, numero_acoes))\n",
      "\u001b[1;31mNameError\u001b[0m: name 'retornos' is not defined"
     ]
    }
   ],
   "source": [
    "numero_simulacoes = 10000 # número de simulações\n",
    "dias_projetados = 252 * 3 # 3 anos com 252 dias de bolsa\n",
    "capital_inicial = 1000 # capital inicial\n",
    "\n",
    "# retorno médio\n",
    "retorno_medio = retornos.mean(axis=0).to_numpy()\n",
    "matriz_retorno_medio = retorno_medio * np.ones(shape = (dias_projetados, numero_acoes))\n",
    "\n",
    "# Gerando o valor de L\n",
    "L = LA.cholesky(matriz_covariancia)\n",
    "L"
   ]
  },
  {
   "cell_type": "code",
   "execution_count": null,
   "id": "9db21440",
   "metadata": {},
   "outputs": [],
   "source": [
    "# Gerando simulações\n",
    "\n",
    "retornos_carteira = np.zeros([dias_projetados, numero_simulacoes]) # cada coluna é uma simulacao\n",
    "montante_final = np.zeros(numero_simulacoes)\n",
    "\n",
    "for s in range(numero_simulacoes):\n",
    "    Rpdf = np.random.normal(size=(dias_projetados, numero_acoes))\n",
    "    retornos_sinteticos = matriz_retorno_medio + np.inner(Rpdf, L)\n",
    "    \n",
    "    retornos_carteira[:, s] = np.cumprod(np.inner(pesos_carteira, retornos_sinteticos)+1)*capital_inicial\n",
    "    montante_final[s] = retornos_carteira[-1, s]"
   ]
  },
  {
   "cell_type": "code",
   "execution_count": null,
   "id": "548ac161",
   "metadata": {},
   "outputs": [],
   "source": []
  }
 ],
 "metadata": {
  "kernelspec": {
   "display_name": "Python 3 (ipykernel)",
   "language": "python",
   "name": "python3"
  },
  "language_info": {
   "codemirror_mode": {
    "name": "ipython",
    "version": 3
   },
   "file_extension": ".py",
   "mimetype": "text/x-python",
   "name": "python",
   "nbconvert_exporter": "python",
   "pygments_lexer": "ipython3",
   "version": "3.10.9"
  }
 },
 "nbformat": 4,
 "nbformat_minor": 5
}
