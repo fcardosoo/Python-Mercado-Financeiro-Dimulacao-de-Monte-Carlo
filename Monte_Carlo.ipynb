{
 "cells": [
  {
   "cell_type": "markdown",
   "id": "3a3c1602",
   "metadata": {},
   "source": [
    "# Simulação de Monte Carlo\n",
    "\n",
    "* Criada durante a segunda guerra mundial;\n",
    "* Nomeado em homenagem a cidade de Mônaco com seus cassinos;\n",
    "* Foi criada originalmente para testar cenários de um evento incerto. O acaso é o principal elemento da abordagem na modelagem.\n",
    "\n",
    "* No mercado financeiro, existem tantos cenários, que a projeção de retornos não pode ser resolvida por uma simples análise combinatória. É necessário resolver o problema utilizando força bruta.\n",
    "* Simular o cenário **N** vezes, criando uma amostra e, a partir da amostra, praticar a inferência estatística."
   ]
  },
  {
   "cell_type": "markdown",
   "id": "b2963a33",
   "metadata": {},
   "source": [
    "# Problema a ser resolvido:\n",
    "\n",
    "* Tenho uma carteira com 10 ações. Dado a distribuição dos retornos dessa carteira no último ano:\n",
    "    * Qual o máximo que eu posso perder nos próximos 3 anos, com uma confiança de 95%?\n",
    "    * Qual a probabilidade de eu obter lucro?"
   ]
  },
  {
   "cell_type": "markdown",
   "id": "ea5bcde0",
   "metadata": {},
   "source": [
    "# Resolução:\n",
    "\n",
    "* Simular 10 mil cenários da carteira com 10 ações nos próximos 10 anos e criar uma distribuição dos retornos com os cenários. Para isso, vamos utilizar Monte Carlo."
   ]
  },
  {
   "cell_type": "markdown",
   "id": "011f1aff",
   "metadata": {},
   "source": [
    "## 1.0 Bibliotecas"
   ]
  },
  {
   "cell_type": "code",
   "execution_count": 2,
   "id": "a6d241c9",
   "metadata": {},
   "outputs": [],
   "source": [
    "import numpy                            as np\n",
    "import matplotlib.pyplot                as plt\n",
    "import datetime                         as dt\n",
    "from pandas_datareader   import data    as pdr\n",
    "from numpy               import linalg  as LA"
   ]
  },
  {
   "cell_type": "markdown",
   "id": "b52fdfda",
   "metadata": {},
   "source": [
    "## 2. Obtendo os dados"
   ]
  },
  {
   "cell_type": "code",
   "execution_count": 3,
   "id": "b49bc50a",
   "metadata": {},
   "outputs": [],
   "source": [
    "lista_acoes = ['WEGE3', 'PCAR3', 'LREN3', 'PETR4', 'VALE3'] # Lista de ativos de interesse\n",
    "lista_acoes = [acao + '.SA' for acao in lista_acoes] # Adicionando o sufixo '.SA' para consultar as cotações no Yahoo Finance\n",
    "\n",
    "data_final = dt.datetime.now() # Definindo a data final como a data atual (hoje)\n",
    "data_inicial = data_final - dt.timedelta(days=300) # A data final é 300 dias para trás\n",
    "\n",
    "precos = pdr.get_data_yahoo(lista_acoes, data_inicial, data_final)['Adj Close'] # Pegar o valor da cotação de fechamento AJUSTADO"
   ]
  },
  {
   "cell_type": "markdown",
   "id": "741dd266",
   "metadata": {},
   "source": [
    "## 3. Calculando os retornos da matriz de Covariância"
   ]
  },
  {
   "cell_type": "code",
   "execution_count": null,
   "id": "136b1d8d",
   "metadata": {},
   "outputs": [],
   "source": [
    "retornos = precos.pct_change().dropna() # dropna, pois a primeira linha não haverá percentual\n",
    "media_retornos = retornos.mean() #calcula a média dos retornos\n",
    "matriz_covariancia = retorno.cov() # calcular a matriz de covariância\n",
    "pesos_carteira = np.full(len(lista_acoes), 1/len(lista_acoes)) # calcular o peso da carteira dividindo o tamanho da carteira (100%) pelo número de ativos\n",
    "numero_acoes = len(lista_acoes)\n",
    "\n",
    "pesos_carteira"
   ]
  },
  {
   "cell_type": "markdown",
   "id": "a8e5ed5f",
   "metadata": {},
   "source": [
    "## 4. Fórmula dos Retornos Sintéticos\n",
    "\n",
    "Retornos sintéticos = media_retornos + Rpdf x L\n",
    "\n",
    "* media_retornos = Média dos retornos\n",
    "* Rpdf = Matriz aleatória gerada por alguma função de densidade de probabilidade\n",
    "* L = Matriz triangular inferior proveniente de uma decomposição de Cholesky, usando como base a matriz de covariância dos dados originais.\n",
    "\n",
    "**Explicação:**\n",
    "\n",
    "* Assumimos que a distribuição dos retornos se aproxima de uma normal.<br>\n",
    "\n",
    "* Ao gerar retornos aleatórios de cada ativo, estes valores compõem vetores aleatórios descorrelacionados. Para corrigir isso, usaremos uma matriz triangular obtida a partir da covariância. "
   ]
  },
  {
   "cell_type": "markdown",
   "id": "fbc50949",
   "metadata": {},
   "source": [
    "## 5. Premissas do Modelo de Monte Carlo"
   ]
  },
  {
   "cell_type": "code",
   "execution_count": null,
   "id": "b1d71898",
   "metadata": {},
   "outputs": [],
   "source": [
    "numero_simulacoes = 10000 # número de simulações\n",
    "dias_projetados = 252 * 3 # 3 anos com 252 dias de bolsa\n",
    "capital_inicial = 1000 # capital inicial\n",
    "\n",
    "# retorno médio\n",
    "retorno_medio = retornos.mean(axis=0).to_numpy()\n",
    "matriz_retorno_medio = retorno_medio * np.ones(shape = (dias_projetados, numero_acoes))\n",
    "\n",
    "# Gerando o valor de L\n",
    "L = LA.cholesky(matriz_covariancia)\n",
    "L"
   ]
  },
  {
   "cell_type": "code",
   "execution_count": null,
   "id": "9db21440",
   "metadata": {},
   "outputs": [],
   "source": [
    "# Gerando simulações\n",
    "\n",
    "retornos_carteira = np.zeros([dias_projetados, numero_simulacoes]) # cada coluna é uma simulacao\n",
    "montante_final = np.zeros(numero_simulacoes)\n",
    "\n",
    "for s in range(numero_simulacoes):\n",
    "    Rpdf = np.random.normal(size=(dias_projetados, numero_acoes))\n",
    "    retornos_sinteticos = matriz_retorno_medio + np.inner(Rpdf, L)\n",
    "    \n",
    "    retornos_carteira[:, s] = np.cumprod(np.inner(pesos_carteira, retornos_sinteticos)+1)*capital_inicial\n",
    "    montante_final[s] = retornos_carteira[-1, s]\n",
    "\n",
    "montante_final"
   ]
  },
  {
   "cell_type": "code",
   "execution_count": null,
   "id": "548ac161",
   "metadata": {},
   "outputs": [],
   "source": [
    "plt.plot"
   ]
  }
 ],
 "metadata": {
  "kernelspec": {
   "display_name": "Python 3 (ipykernel)",
   "language": "python",
   "name": "python3"
  },
  "language_info": {
   "codemirror_mode": {
    "name": "ipython",
    "version": 3
   },
   "file_extension": ".py",
   "mimetype": "text/x-python",
   "name": "python",
   "nbconvert_exporter": "python",
   "pygments_lexer": "ipython3",
   "version": "3.10.9"
  }
 },
 "nbformat": 4,
 "nbformat_minor": 5
}
